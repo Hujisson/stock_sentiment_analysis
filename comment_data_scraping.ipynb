{
 "cells": [
  {
   "cell_type": "code",
   "execution_count": 1,
   "metadata": {},
   "outputs": [],
   "source": [
    "import requests\n",
    "from bs4 import BeautifulSoup\n",
    "import pandas as pd"
   ]
  },
  {
   "cell_type": "markdown",
   "metadata": {},
   "source": [
    "## Miten kommentti koostuu foorumilla?"
   ]
  },
  {
   "cell_type": "code",
   "execution_count": null,
   "metadata": {},
   "outputs": [
    {
     "name": "stdout",
     "output_type": "stream",
     "text": [
      "<Response [200]>\n",
      "Hyvä Roasti tänään, vaikka olikin aika kevyt eikä hikeä tullu toimarilta. Harvialla todella puhtaat paperit ja tylsyys on hyvä sijoittamisessa, kuten Sammon kohdalla… Jatkoon… aloitan ostoprojektin huomenna.\n",
      "2018-09-20T21:17:41Z\n",
      "Kalle_P\n"
     ]
    }
   ],
   "source": [
    "# Nesteen keskustelun linkki\n",
    "r = requests.get(\"https://keskustelut.inderes.fi/t/harvia-foorumi-eli-haarumi-kansainvalista-kasvua-ja-hyvinvoinnin-megatrendeja/471/4\")\n",
    "\n",
    "# Jos status code = 200, vastaus saatiin\n",
    "print(r)\n",
    "\n",
    "# HTML:n jäsentäminen\n",
    "soup = BeautifulSoup(r.content, 'html.parser')\n",
    "\n",
    "# Haetaan tarvittavat elementit eli kommentit, aikaleima ja käyttäjä\n",
    "comment = soup.find(\"div\", {\"class\": \"post\"}).get_text(strip=True)\n",
    "time = soup.find(\"time\", {\"class\":\"post-time\"})\n",
    "datetime = time['datetime']\n",
    "creator = soup.find(\"span\", {\"class\":\"creator\"})\n",
    "name = creator.find(\"span\", {\"itemprop\":\"name\"}).get_text(strip=True)\n",
    "\n",
    "print(comment)\n",
    "print(datetime)\n",
    "print(name)"
   ]
  },
  {
   "cell_type": "markdown",
   "metadata": {},
   "source": [
    "## Kaikkien ketjun kommenttien hakeminen"
   ]
  },
  {
   "cell_type": "code",
   "execution_count": 76,
   "metadata": {},
   "outputs": [],
   "source": [
    "# Listat kommenteille ja aikaleimoille\n",
    "\n",
    "comments = []\n",
    "dates = []\n",
    "users = []\n",
    "\n",
    "# Haetaan kaikki kommentit, joita on x kappaletta\n",
    "\n",
    "for i in range(1,7997):\n",
    "    r = requests.get(f\"https://keskustelut.inderes.fi/t/harvia-foorumi-eli-haarumi-kansainvalista-kasvua-ja-hyvinvoinnin-megatrendeja/471/{i}\")\n",
    "    soup = BeautifulSoup(r.content, 'html.parser')\n",
    "\n",
    "    # Kommentit\n",
    "    comment = soup.find(\"div\", {\"class\": \"post\"}).get_text(strip=True)\n",
    "    comments.append(comment)\n",
    "\n",
    "    # Aikaleimat\n",
    "    time = soup.find(\"time\", {\"class\":\"post-time\"})\n",
    "    datetime = time['datetime']\n",
    "    dates.append(datetime)\n",
    "    \n",
    "    # Käyttäjät\n",
    "    creator = soup.find(\"span\", {\"class\":\"creator\"})\n",
    "    name = creator.find(\"span\", {\"itemprop\":\"name\"}).get_text(strip=True)\n",
    "    users.append(name)"
   ]
  },
  {
   "cell_type": "code",
   "execution_count": 101,
   "metadata": {},
   "outputs": [],
   "source": [
    "# Siirretään kommentit dataframeihin\n",
    "\n",
    "df_comments = pd.DataFrame({\n",
    "    \"datetime\":dates,\n",
    "    \"user\":users,\n",
    "    \"comment\":comments\n",
    "})"
   ]
  },
  {
   "cell_type": "code",
   "execution_count": 102,
   "metadata": {},
   "outputs": [
    {
     "data": {
      "text/html": [
       "<div>\n",
       "<style scoped>\n",
       "    .dataframe tbody tr th:only-of-type {\n",
       "        vertical-align: middle;\n",
       "    }\n",
       "\n",
       "    .dataframe tbody tr th {\n",
       "        vertical-align: top;\n",
       "    }\n",
       "\n",
       "    .dataframe thead th {\n",
       "        text-align: right;\n",
       "    }\n",
       "</style>\n",
       "<table border=\"1\" class=\"dataframe\">\n",
       "  <thead>\n",
       "    <tr style=\"text-align: right;\">\n",
       "      <th></th>\n",
       "      <th>datetime</th>\n",
       "      <th>user</th>\n",
       "      <th>comment</th>\n",
       "    </tr>\n",
       "  </thead>\n",
       "  <tbody>\n",
       "    <tr>\n",
       "      <th>0</th>\n",
       "      <td>2018-09-20T12:19:18Z</td>\n",
       "      <td>Verneri_Pulkkinen</td>\n",
       "      <td>Harvian toimari oli tänäänROASTissaja huomasin...</td>\n",
       "    </tr>\n",
       "    <tr>\n",
       "      <th>1</th>\n",
       "      <td>2018-09-20T12:43:56Z</td>\n",
       "      <td>timontti</td>\n",
       "      <td>Harkinnassa, roast herätti mielenkiinnon ja la...</td>\n",
       "    </tr>\n",
       "    <tr>\n",
       "      <th>2</th>\n",
       "      <td>2018-09-20T16:03:04Z</td>\n",
       "      <td>Markus14</td>\n",
       "      <td>Karsastan tuota liikearvopommia, mikä yhtiöllä...</td>\n",
       "    </tr>\n",
       "    <tr>\n",
       "      <th>3</th>\n",
       "      <td>2018-09-20T21:17:41Z</td>\n",
       "      <td>Kalle_P</td>\n",
       "      <td>Hyvä Roasti tänään, vaikka olikin aika kevyt e...</td>\n",
       "    </tr>\n",
       "    <tr>\n",
       "      <th>4</th>\n",
       "      <td>2018-09-21T05:25:08Z</td>\n",
       "      <td>Mikael_Rautanen</td>\n",
       "      <td>Vaikuttaa kyllä kaikin puolin laadukkaalta ja ...</td>\n",
       "    </tr>\n",
       "    <tr>\n",
       "      <th>...</th>\n",
       "      <td>...</td>\n",
       "      <td>...</td>\n",
       "      <td>...</td>\n",
       "    </tr>\n",
       "    <tr>\n",
       "      <th>7991</th>\n",
       "      <td>2025-02-24T16:19:50Z</td>\n",
       "      <td>kimsku</td>\n",
       "      <td>Kiva kun pidetään ketjua aktiivisena, mutta re...</td>\n",
       "    </tr>\n",
       "    <tr>\n",
       "      <th>7992</th>\n",
       "      <td>2025-02-24T16:44:17Z</td>\n",
       "      <td>Real</td>\n",
       "      <td>onhan siinä HS:n kuvassa kiviä keskellä,HS-jut...</td>\n",
       "    </tr>\n",
       "    <tr>\n",
       "      <th>7993</th>\n",
       "      <td>2025-02-26T17:44:22Z</td>\n",
       "      <td>Saapasjalkakissa</td>\n",
       "      <td>Mielenkiintoista tietoa pienen kannustimen vai...</td>\n",
       "    </tr>\n",
       "    <tr>\n",
       "      <th>7994</th>\n",
       "      <td>2025-02-27T05:14:06Z</td>\n",
       "      <td>eesau</td>\n",
       "      <td>Tässä vielä linkki lähteenä olevaan Ympäristöm...</td>\n",
       "    </tr>\n",
       "    <tr>\n",
       "      <th>7995</th>\n",
       "      <td>2025-02-28T07:08:52Z</td>\n",
       "      <td>Dissidentti</td>\n",
       "      <td>Nyt on valjastettu jo musiikkikin saunomisen k...</td>\n",
       "    </tr>\n",
       "  </tbody>\n",
       "</table>\n",
       "<p>7996 rows × 3 columns</p>\n",
       "</div>"
      ],
      "text/plain": [
       "                  datetime               user  \\\n",
       "0     2018-09-20T12:19:18Z  Verneri_Pulkkinen   \n",
       "1     2018-09-20T12:43:56Z           timontti   \n",
       "2     2018-09-20T16:03:04Z           Markus14   \n",
       "3     2018-09-20T21:17:41Z            Kalle_P   \n",
       "4     2018-09-21T05:25:08Z    Mikael_Rautanen   \n",
       "...                    ...                ...   \n",
       "7991  2025-02-24T16:19:50Z             kimsku   \n",
       "7992  2025-02-24T16:44:17Z               Real   \n",
       "7993  2025-02-26T17:44:22Z   Saapasjalkakissa   \n",
       "7994  2025-02-27T05:14:06Z              eesau   \n",
       "7995  2025-02-28T07:08:52Z        Dissidentti   \n",
       "\n",
       "                                                comment  \n",
       "0     Harvian toimari oli tänäänROASTissaja huomasin...  \n",
       "1     Harkinnassa, roast herätti mielenkiinnon ja la...  \n",
       "2     Karsastan tuota liikearvopommia, mikä yhtiöllä...  \n",
       "3     Hyvä Roasti tänään, vaikka olikin aika kevyt e...  \n",
       "4     Vaikuttaa kyllä kaikin puolin laadukkaalta ja ...  \n",
       "...                                                 ...  \n",
       "7991  Kiva kun pidetään ketjua aktiivisena, mutta re...  \n",
       "7992  onhan siinä HS:n kuvassa kiviä keskellä,HS-jut...  \n",
       "7993  Mielenkiintoista tietoa pienen kannustimen vai...  \n",
       "7994  Tässä vielä linkki lähteenä olevaan Ympäristöm...  \n",
       "7995  Nyt on valjastettu jo musiikkikin saunomisen k...  \n",
       "\n",
       "[7996 rows x 3 columns]"
      ]
     },
     "execution_count": 102,
     "metadata": {},
     "output_type": "execute_result"
    }
   ],
   "source": [
    "df_comments"
   ]
  },
  {
   "cell_type": "code",
   "execution_count": null,
   "metadata": {},
   "outputs": [
    {
     "data": {
      "text/plain": [
       "datetime    7095\n",
       "user         830\n",
       "comment     7084\n",
       "dtype: int64"
      ]
     },
     "execution_count": 107,
     "metadata": {},
     "output_type": "execute_result"
    }
   ],
   "source": [
    "# Onko duplikaatteja?\n",
    "\n",
    "df_comments.nunique()"
   ]
  },
  {
   "cell_type": "code",
   "execution_count": null,
   "metadata": {},
   "outputs": [],
   "source": [
    "# Datassa on duplikaatteja, jotka näyttävät johtuvan siitä, että osa kommenteista on hävinnyt välistä\n",
    "# Eli esim. kommenttia numero 10 ei ole enää\n",
    "# Tämä mahdollisesti sekoittaa koodin ja luo duplikaatteja\n",
    "# Riittävä taso minulle on vain poistaa duplikaatit\n",
    "\n",
    "df_comments_unique = df_comments.drop_duplicates()"
   ]
  },
  {
   "cell_type": "code",
   "execution_count": null,
   "metadata": {},
   "outputs": [
    {
     "data": {
      "text/plain": [
       "7097"
      ]
     },
     "execution_count": 113,
     "metadata": {},
     "output_type": "execute_result"
    }
   ],
   "source": [
    "# Nyt kommenttien määrä vastaa kommenttien määrää, joka foorumilla on datan keräys hetkellä näkyvissä\n",
    "\n",
    "len(df_comments_unique)"
   ]
  },
  {
   "cell_type": "code",
   "execution_count": 115,
   "metadata": {},
   "outputs": [],
   "source": [
    "# Viedään kommentit talteen csv-tiedostoon\n",
    "\n",
    "df_comments_unique.to_csv(\"comments.csv\", index=False)"
   ]
  },
  {
   "cell_type": "code",
   "execution_count": 2,
   "metadata": {},
   "outputs": [
    {
     "data": {
      "text/html": [
       "<div>\n",
       "<style scoped>\n",
       "    .dataframe tbody tr th:only-of-type {\n",
       "        vertical-align: middle;\n",
       "    }\n",
       "\n",
       "    .dataframe tbody tr th {\n",
       "        vertical-align: top;\n",
       "    }\n",
       "\n",
       "    .dataframe thead th {\n",
       "        text-align: right;\n",
       "    }\n",
       "</style>\n",
       "<table border=\"1\" class=\"dataframe\">\n",
       "  <thead>\n",
       "    <tr style=\"text-align: right;\">\n",
       "      <th></th>\n",
       "      <th>datetime</th>\n",
       "      <th>user</th>\n",
       "      <th>comment</th>\n",
       "    </tr>\n",
       "  </thead>\n",
       "  <tbody>\n",
       "    <tr>\n",
       "      <th>0</th>\n",
       "      <td>2018-09-20T12:19:18Z</td>\n",
       "      <td>Verneri_Pulkkinen</td>\n",
       "      <td>Harvian toimari oli tänäänROASTissaja huomasin...</td>\n",
       "    </tr>\n",
       "    <tr>\n",
       "      <th>1</th>\n",
       "      <td>2018-09-20T12:43:56Z</td>\n",
       "      <td>timontti</td>\n",
       "      <td>Harkinnassa, roast herätti mielenkiinnon ja la...</td>\n",
       "    </tr>\n",
       "    <tr>\n",
       "      <th>2</th>\n",
       "      <td>2018-09-20T16:03:04Z</td>\n",
       "      <td>Markus14</td>\n",
       "      <td>Karsastan tuota liikearvopommia, mikä yhtiöllä...</td>\n",
       "    </tr>\n",
       "    <tr>\n",
       "      <th>3</th>\n",
       "      <td>2018-09-20T21:17:41Z</td>\n",
       "      <td>Kalle_P</td>\n",
       "      <td>Hyvä Roasti tänään, vaikka olikin aika kevyt e...</td>\n",
       "    </tr>\n",
       "    <tr>\n",
       "      <th>4</th>\n",
       "      <td>2018-09-21T05:25:08Z</td>\n",
       "      <td>Mikael_Rautanen</td>\n",
       "      <td>Vaikuttaa kyllä kaikin puolin laadukkaalta ja ...</td>\n",
       "    </tr>\n",
       "    <tr>\n",
       "      <th>...</th>\n",
       "      <td>...</td>\n",
       "      <td>...</td>\n",
       "      <td>...</td>\n",
       "    </tr>\n",
       "    <tr>\n",
       "      <th>7092</th>\n",
       "      <td>2025-02-24T16:19:50Z</td>\n",
       "      <td>kimsku</td>\n",
       "      <td>Kiva kun pidetään ketjua aktiivisena, mutta re...</td>\n",
       "    </tr>\n",
       "    <tr>\n",
       "      <th>7093</th>\n",
       "      <td>2025-02-24T16:44:17Z</td>\n",
       "      <td>Real</td>\n",
       "      <td>onhan siinä HS:n kuvassa kiviä keskellä,HS-jut...</td>\n",
       "    </tr>\n",
       "    <tr>\n",
       "      <th>7094</th>\n",
       "      <td>2025-02-26T17:44:22Z</td>\n",
       "      <td>Saapasjalkakissa</td>\n",
       "      <td>Mielenkiintoista tietoa pienen kannustimen vai...</td>\n",
       "    </tr>\n",
       "    <tr>\n",
       "      <th>7095</th>\n",
       "      <td>2025-02-27T05:14:06Z</td>\n",
       "      <td>eesau</td>\n",
       "      <td>Tässä vielä linkki lähteenä olevaan Ympäristöm...</td>\n",
       "    </tr>\n",
       "    <tr>\n",
       "      <th>7096</th>\n",
       "      <td>2025-02-28T07:08:52Z</td>\n",
       "      <td>Dissidentti</td>\n",
       "      <td>Nyt on valjastettu jo musiikkikin saunomisen k...</td>\n",
       "    </tr>\n",
       "  </tbody>\n",
       "</table>\n",
       "<p>7097 rows × 3 columns</p>\n",
       "</div>"
      ],
      "text/plain": [
       "                  datetime               user  \\\n",
       "0     2018-09-20T12:19:18Z  Verneri_Pulkkinen   \n",
       "1     2018-09-20T12:43:56Z           timontti   \n",
       "2     2018-09-20T16:03:04Z           Markus14   \n",
       "3     2018-09-20T21:17:41Z            Kalle_P   \n",
       "4     2018-09-21T05:25:08Z    Mikael_Rautanen   \n",
       "...                    ...                ...   \n",
       "7092  2025-02-24T16:19:50Z             kimsku   \n",
       "7093  2025-02-24T16:44:17Z               Real   \n",
       "7094  2025-02-26T17:44:22Z   Saapasjalkakissa   \n",
       "7095  2025-02-27T05:14:06Z              eesau   \n",
       "7096  2025-02-28T07:08:52Z        Dissidentti   \n",
       "\n",
       "                                                comment  \n",
       "0     Harvian toimari oli tänäänROASTissaja huomasin...  \n",
       "1     Harkinnassa, roast herätti mielenkiinnon ja la...  \n",
       "2     Karsastan tuota liikearvopommia, mikä yhtiöllä...  \n",
       "3     Hyvä Roasti tänään, vaikka olikin aika kevyt e...  \n",
       "4     Vaikuttaa kyllä kaikin puolin laadukkaalta ja ...  \n",
       "...                                                 ...  \n",
       "7092  Kiva kun pidetään ketjua aktiivisena, mutta re...  \n",
       "7093  onhan siinä HS:n kuvassa kiviä keskellä,HS-jut...  \n",
       "7094  Mielenkiintoista tietoa pienen kannustimen vai...  \n",
       "7095  Tässä vielä linkki lähteenä olevaan Ympäristöm...  \n",
       "7096  Nyt on valjastettu jo musiikkikin saunomisen k...  \n",
       "\n",
       "[7097 rows x 3 columns]"
      ]
     },
     "execution_count": 2,
     "metadata": {},
     "output_type": "execute_result"
    }
   ],
   "source": [
    "# Haetaan tiedostosta data\n",
    "\n",
    "df = pd.read_csv(\"comments.csv\")\n",
    "df"
   ]
  },
  {
   "cell_type": "code",
   "execution_count": 14,
   "metadata": {},
   "outputs": [],
   "source": [
    "# Haetaan kirjasto kääntämiseen\n",
    "\n",
    "from deep_translator import GoogleTranslator"
   ]
  },
  {
   "cell_type": "code",
   "execution_count": 4,
   "metadata": {},
   "outputs": [
    {
     "data": {
      "text/html": [
       "<div>\n",
       "<style scoped>\n",
       "    .dataframe tbody tr th:only-of-type {\n",
       "        vertical-align: middle;\n",
       "    }\n",
       "\n",
       "    .dataframe tbody tr th {\n",
       "        vertical-align: top;\n",
       "    }\n",
       "\n",
       "    .dataframe thead th {\n",
       "        text-align: right;\n",
       "    }\n",
       "</style>\n",
       "<table border=\"1\" class=\"dataframe\">\n",
       "  <thead>\n",
       "    <tr style=\"text-align: right;\">\n",
       "      <th></th>\n",
       "      <th>datetime</th>\n",
       "      <th>user</th>\n",
       "      <th>comment</th>\n",
       "    </tr>\n",
       "  </thead>\n",
       "  <tbody>\n",
       "    <tr>\n",
       "      <th>0</th>\n",
       "      <td>2018-09-20T12:19:18Z</td>\n",
       "      <td>Verneri_Pulkkinen</td>\n",
       "      <td>Harvian toimari oli tänäänROASTissaja huomasin...</td>\n",
       "    </tr>\n",
       "    <tr>\n",
       "      <th>1</th>\n",
       "      <td>2018-09-20T12:43:56Z</td>\n",
       "      <td>timontti</td>\n",
       "      <td>Harkinnassa, roast herätti mielenkiinnon ja la...</td>\n",
       "    </tr>\n",
       "    <tr>\n",
       "      <th>2</th>\n",
       "      <td>2018-09-20T16:03:04Z</td>\n",
       "      <td>Markus14</td>\n",
       "      <td>Karsastan tuota liikearvopommia, mikä yhtiöllä...</td>\n",
       "    </tr>\n",
       "    <tr>\n",
       "      <th>3</th>\n",
       "      <td>2018-09-20T21:17:41Z</td>\n",
       "      <td>Kalle_P</td>\n",
       "      <td>Hyvä Roasti tänään, vaikka olikin aika kevyt e...</td>\n",
       "    </tr>\n",
       "    <tr>\n",
       "      <th>4</th>\n",
       "      <td>2018-09-21T05:25:08Z</td>\n",
       "      <td>Mikael_Rautanen</td>\n",
       "      <td>Vaikuttaa kyllä kaikin puolin laadukkaalta ja ...</td>\n",
       "    </tr>\n",
       "    <tr>\n",
       "      <th>5</th>\n",
       "      <td>2018-09-21T09:34:04Z</td>\n",
       "      <td>anon38833097</td>\n",
       "      <td>Vähän tuli ostettuaDefensiivisyyttä myös salkk...</td>\n",
       "    </tr>\n",
       "    <tr>\n",
       "      <th>6</th>\n",
       "      <td>2018-10-11T12:55:29Z</td>\n",
       "      <td>HerrDax</td>\n",
       "      <td>Mikäs erityisesti Harviaa tänä mielenkiintoise...</td>\n",
       "    </tr>\n",
       "    <tr>\n",
       "      <th>7</th>\n",
       "      <td>2018-10-11T13:05:34Z</td>\n",
       "      <td>timontti</td>\n",
       "      <td>Pakko yrittää pilkkiä alta 5,4€ tätä, vaikka j...</td>\n",
       "    </tr>\n",
       "    <tr>\n",
       "      <th>8</th>\n",
       "      <td>2018-10-11T13:21:33Z</td>\n",
       "      <td>Koli</td>\n",
       "      <td>Eiköhän se syy ollut juurikin tuossa mainitsem...</td>\n",
       "    </tr>\n",
       "    <tr>\n",
       "      <th>9</th>\n",
       "      <td>2018-10-12T10:14:34Z</td>\n",
       "      <td>Markus14</td>\n",
       "      <td>“Osinko maksetaan osakkeenomistajalle, joka on...</td>\n",
       "    </tr>\n",
       "  </tbody>\n",
       "</table>\n",
       "</div>"
      ],
      "text/plain": [
       "               datetime               user  \\\n",
       "0  2018-09-20T12:19:18Z  Verneri_Pulkkinen   \n",
       "1  2018-09-20T12:43:56Z           timontti   \n",
       "2  2018-09-20T16:03:04Z           Markus14   \n",
       "3  2018-09-20T21:17:41Z            Kalle_P   \n",
       "4  2018-09-21T05:25:08Z    Mikael_Rautanen   \n",
       "5  2018-09-21T09:34:04Z       anon38833097   \n",
       "6  2018-10-11T12:55:29Z            HerrDax   \n",
       "7  2018-10-11T13:05:34Z           timontti   \n",
       "8  2018-10-11T13:21:33Z               Koli   \n",
       "9  2018-10-12T10:14:34Z           Markus14   \n",
       "\n",
       "                                             comment  \n",
       "0  Harvian toimari oli tänäänROASTissaja huomasin...  \n",
       "1  Harkinnassa, roast herätti mielenkiinnon ja la...  \n",
       "2  Karsastan tuota liikearvopommia, mikä yhtiöllä...  \n",
       "3  Hyvä Roasti tänään, vaikka olikin aika kevyt e...  \n",
       "4  Vaikuttaa kyllä kaikin puolin laadukkaalta ja ...  \n",
       "5  Vähän tuli ostettuaDefensiivisyyttä myös salkk...  \n",
       "6  Mikäs erityisesti Harviaa tänä mielenkiintoise...  \n",
       "7  Pakko yrittää pilkkiä alta 5,4€ tätä, vaikka j...  \n",
       "8  Eiköhän se syy ollut juurikin tuossa mainitsem...  \n",
       "9  “Osinko maksetaan osakkeenomistajalle, joka on...  "
      ]
     },
     "execution_count": 4,
     "metadata": {},
     "output_type": "execute_result"
    }
   ],
   "source": [
    "# Luodaan käännökselle testisetti\n",
    "\n",
    "df_10 = df.head(10)\n",
    "df_10"
   ]
  },
  {
   "cell_type": "code",
   "execution_count": 34,
   "metadata": {},
   "outputs": [],
   "source": [
    "# Poistetaan dataframesta rivit, joilla comment on NULL\n",
    "\n",
    "df = df[df[\"comment\"].isnull()== False].reset_index(drop=True)"
   ]
  },
  {
   "cell_type": "code",
   "execution_count": 35,
   "metadata": {},
   "outputs": [],
   "source": [
    "# Luodaan dataframe, jossa on kommentit, joissa alle 5 000 merkkiä\n",
    "\n",
    "df_under_5000_chars = df[df[\"comment\"].str.len() < 5000].reset_index(drop=True)"
   ]
  },
  {
   "cell_type": "code",
   "execution_count": 40,
   "metadata": {},
   "outputs": [
    {
     "name": "stderr",
     "output_type": "stream",
     "text": [
      "/Library/Frameworks/Python.framework/Versions/3.13/lib/python3.13/weakref.py:575: RuntimeWarning: coroutine 'Translator.translate' was never awaited\n",
      "  info = self._Info()\n",
      "RuntimeWarning: Enable tracemalloc to get the object allocation traceback\n"
     ]
    },
    {
     "ename": "TranslationNotFound",
     "evalue": "Ahonen myi kyllä nyt syyskuun aikana 20 000kpl lappuja, alkuvuonna vielä meni jotain 1500 lisää. Eli lähemmäs miljoonalla hän on myynyt kyllä tänä vuonna, joka on jo aika iso potti.Ahosella taitaa olla takana jo parinkymmenen vuoden työhistoria Harviasta. Hän ei taida olla mikään sijoittaja luonteeltaan, joten nämä myynit liittyy todennäköisesti vain tarpeeseen rahastaa. --> No translation was found using the current translator. Try another translator?",
     "output_type": "error",
     "traceback": [
      "\u001b[0;31m---------------------------------------------------------------------------\u001b[0m",
      "\u001b[0;31mTranslationNotFound\u001b[0m                       Traceback (most recent call last)",
      "Cell \u001b[0;32mIn[40], line 5\u001b[0m\n\u001b[1;32m      1\u001b[0m \u001b[38;5;66;03m# Luodaan dataframeen uusi sarake, jossa kommentti\u001b[39;00m\n\u001b[1;32m      3\u001b[0m translator \u001b[38;5;241m=\u001b[39m GoogleTranslator(source\u001b[38;5;241m=\u001b[39m\u001b[38;5;124m'\u001b[39m\u001b[38;5;124mfi\u001b[39m\u001b[38;5;124m'\u001b[39m, target\u001b[38;5;241m=\u001b[39m\u001b[38;5;124m'\u001b[39m\u001b[38;5;124men\u001b[39m\u001b[38;5;124m'\u001b[39m)\n\u001b[0;32m----> 5\u001b[0m df_under_5000_chars[\u001b[38;5;124m\"\u001b[39m\u001b[38;5;124mcomment_en\u001b[39m\u001b[38;5;124m\"\u001b[39m] \u001b[38;5;241m=\u001b[39m \u001b[43mdf_under_5000_chars\u001b[49m\u001b[43m[\u001b[49m\u001b[38;5;124;43m\"\u001b[39;49m\u001b[38;5;124;43mcomment\u001b[39;49m\u001b[38;5;124;43m\"\u001b[39;49m\u001b[43m]\u001b[49m\u001b[38;5;241;43m.\u001b[39;49m\u001b[43mapply\u001b[49m\u001b[43m(\u001b[49m\u001b[38;5;28;43;01mlambda\u001b[39;49;00m\u001b[43m \u001b[49m\u001b[43mx\u001b[49m\u001b[43m:\u001b[49m\u001b[43m \u001b[49m\u001b[43mtranslator\u001b[49m\u001b[38;5;241;43m.\u001b[39;49m\u001b[43mtranslate\u001b[49m\u001b[43m(\u001b[49m\u001b[43mx\u001b[49m\u001b[43m)\u001b[49m\u001b[43m)\u001b[49m\n",
      "File \u001b[0;32m/Library/Frameworks/Python.framework/Versions/3.13/lib/python3.13/site-packages/pandas/core/series.py:4924\u001b[0m, in \u001b[0;36mSeries.apply\u001b[0;34m(self, func, convert_dtype, args, by_row, **kwargs)\u001b[0m\n\u001b[1;32m   4789\u001b[0m \u001b[38;5;28;01mdef\u001b[39;00m\u001b[38;5;250m \u001b[39m\u001b[38;5;21mapply\u001b[39m(\n\u001b[1;32m   4790\u001b[0m     \u001b[38;5;28mself\u001b[39m,\n\u001b[1;32m   4791\u001b[0m     func: AggFuncType,\n\u001b[0;32m   (...)\u001b[0m\n\u001b[1;32m   4796\u001b[0m     \u001b[38;5;241m*\u001b[39m\u001b[38;5;241m*\u001b[39mkwargs,\n\u001b[1;32m   4797\u001b[0m ) \u001b[38;5;241m-\u001b[39m\u001b[38;5;241m>\u001b[39m DataFrame \u001b[38;5;241m|\u001b[39m Series:\n\u001b[1;32m   4798\u001b[0m \u001b[38;5;250m    \u001b[39m\u001b[38;5;124;03m\"\"\"\u001b[39;00m\n\u001b[1;32m   4799\u001b[0m \u001b[38;5;124;03m    Invoke function on values of Series.\u001b[39;00m\n\u001b[1;32m   4800\u001b[0m \n\u001b[0;32m   (...)\u001b[0m\n\u001b[1;32m   4915\u001b[0m \u001b[38;5;124;03m    dtype: float64\u001b[39;00m\n\u001b[1;32m   4916\u001b[0m \u001b[38;5;124;03m    \"\"\"\u001b[39;00m\n\u001b[1;32m   4917\u001b[0m     \u001b[38;5;28;01mreturn\u001b[39;00m \u001b[43mSeriesApply\u001b[49m\u001b[43m(\u001b[49m\n\u001b[1;32m   4918\u001b[0m \u001b[43m        \u001b[49m\u001b[38;5;28;43mself\u001b[39;49m\u001b[43m,\u001b[49m\n\u001b[1;32m   4919\u001b[0m \u001b[43m        \u001b[49m\u001b[43mfunc\u001b[49m\u001b[43m,\u001b[49m\n\u001b[1;32m   4920\u001b[0m \u001b[43m        \u001b[49m\u001b[43mconvert_dtype\u001b[49m\u001b[38;5;241;43m=\u001b[39;49m\u001b[43mconvert_dtype\u001b[49m\u001b[43m,\u001b[49m\n\u001b[1;32m   4921\u001b[0m \u001b[43m        \u001b[49m\u001b[43mby_row\u001b[49m\u001b[38;5;241;43m=\u001b[39;49m\u001b[43mby_row\u001b[49m\u001b[43m,\u001b[49m\n\u001b[1;32m   4922\u001b[0m \u001b[43m        \u001b[49m\u001b[43margs\u001b[49m\u001b[38;5;241;43m=\u001b[39;49m\u001b[43margs\u001b[49m\u001b[43m,\u001b[49m\n\u001b[1;32m   4923\u001b[0m \u001b[43m        \u001b[49m\u001b[43mkwargs\u001b[49m\u001b[38;5;241;43m=\u001b[39;49m\u001b[43mkwargs\u001b[49m\u001b[43m,\u001b[49m\n\u001b[0;32m-> 4924\u001b[0m \u001b[43m    \u001b[49m\u001b[43m)\u001b[49m\u001b[38;5;241;43m.\u001b[39;49m\u001b[43mapply\u001b[49m\u001b[43m(\u001b[49m\u001b[43m)\u001b[49m\n",
      "File \u001b[0;32m/Library/Frameworks/Python.framework/Versions/3.13/lib/python3.13/site-packages/pandas/core/apply.py:1427\u001b[0m, in \u001b[0;36mSeriesApply.apply\u001b[0;34m(self)\u001b[0m\n\u001b[1;32m   1424\u001b[0m     \u001b[38;5;28;01mreturn\u001b[39;00m \u001b[38;5;28mself\u001b[39m\u001b[38;5;241m.\u001b[39mapply_compat()\n\u001b[1;32m   1426\u001b[0m \u001b[38;5;66;03m# self.func is Callable\u001b[39;00m\n\u001b[0;32m-> 1427\u001b[0m \u001b[38;5;28;01mreturn\u001b[39;00m \u001b[38;5;28;43mself\u001b[39;49m\u001b[38;5;241;43m.\u001b[39;49m\u001b[43mapply_standard\u001b[49m\u001b[43m(\u001b[49m\u001b[43m)\u001b[49m\n",
      "File \u001b[0;32m/Library/Frameworks/Python.framework/Versions/3.13/lib/python3.13/site-packages/pandas/core/apply.py:1507\u001b[0m, in \u001b[0;36mSeriesApply.apply_standard\u001b[0;34m(self)\u001b[0m\n\u001b[1;32m   1501\u001b[0m \u001b[38;5;66;03m# row-wise access\u001b[39;00m\n\u001b[1;32m   1502\u001b[0m \u001b[38;5;66;03m# apply doesn't have a `na_action` keyword and for backward compat reasons\u001b[39;00m\n\u001b[1;32m   1503\u001b[0m \u001b[38;5;66;03m# we need to give `na_action=\"ignore\"` for categorical data.\u001b[39;00m\n\u001b[1;32m   1504\u001b[0m \u001b[38;5;66;03m# TODO: remove the `na_action=\"ignore\"` when that default has been changed in\u001b[39;00m\n\u001b[1;32m   1505\u001b[0m \u001b[38;5;66;03m#  Categorical (GH51645).\u001b[39;00m\n\u001b[1;32m   1506\u001b[0m action \u001b[38;5;241m=\u001b[39m \u001b[38;5;124m\"\u001b[39m\u001b[38;5;124mignore\u001b[39m\u001b[38;5;124m\"\u001b[39m \u001b[38;5;28;01mif\u001b[39;00m \u001b[38;5;28misinstance\u001b[39m(obj\u001b[38;5;241m.\u001b[39mdtype, CategoricalDtype) \u001b[38;5;28;01melse\u001b[39;00m \u001b[38;5;28;01mNone\u001b[39;00m\n\u001b[0;32m-> 1507\u001b[0m mapped \u001b[38;5;241m=\u001b[39m \u001b[43mobj\u001b[49m\u001b[38;5;241;43m.\u001b[39;49m\u001b[43m_map_values\u001b[49m\u001b[43m(\u001b[49m\n\u001b[1;32m   1508\u001b[0m \u001b[43m    \u001b[49m\u001b[43mmapper\u001b[49m\u001b[38;5;241;43m=\u001b[39;49m\u001b[43mcurried\u001b[49m\u001b[43m,\u001b[49m\u001b[43m \u001b[49m\u001b[43mna_action\u001b[49m\u001b[38;5;241;43m=\u001b[39;49m\u001b[43maction\u001b[49m\u001b[43m,\u001b[49m\u001b[43m \u001b[49m\u001b[43mconvert\u001b[49m\u001b[38;5;241;43m=\u001b[39;49m\u001b[38;5;28;43mself\u001b[39;49m\u001b[38;5;241;43m.\u001b[39;49m\u001b[43mconvert_dtype\u001b[49m\n\u001b[1;32m   1509\u001b[0m \u001b[43m\u001b[49m\u001b[43m)\u001b[49m\n\u001b[1;32m   1511\u001b[0m \u001b[38;5;28;01mif\u001b[39;00m \u001b[38;5;28mlen\u001b[39m(mapped) \u001b[38;5;129;01mand\u001b[39;00m \u001b[38;5;28misinstance\u001b[39m(mapped[\u001b[38;5;241m0\u001b[39m], ABCSeries):\n\u001b[1;32m   1512\u001b[0m     \u001b[38;5;66;03m# GH#43986 Need to do list(mapped) in order to get treated as nested\u001b[39;00m\n\u001b[1;32m   1513\u001b[0m     \u001b[38;5;66;03m#  See also GH#25959 regarding EA support\u001b[39;00m\n\u001b[1;32m   1514\u001b[0m     \u001b[38;5;28;01mreturn\u001b[39;00m obj\u001b[38;5;241m.\u001b[39m_constructor_expanddim(\u001b[38;5;28mlist\u001b[39m(mapped), index\u001b[38;5;241m=\u001b[39mobj\u001b[38;5;241m.\u001b[39mindex)\n",
      "File \u001b[0;32m/Library/Frameworks/Python.framework/Versions/3.13/lib/python3.13/site-packages/pandas/core/base.py:921\u001b[0m, in \u001b[0;36mIndexOpsMixin._map_values\u001b[0;34m(self, mapper, na_action, convert)\u001b[0m\n\u001b[1;32m    918\u001b[0m \u001b[38;5;28;01mif\u001b[39;00m \u001b[38;5;28misinstance\u001b[39m(arr, ExtensionArray):\n\u001b[1;32m    919\u001b[0m     \u001b[38;5;28;01mreturn\u001b[39;00m arr\u001b[38;5;241m.\u001b[39mmap(mapper, na_action\u001b[38;5;241m=\u001b[39mna_action)\n\u001b[0;32m--> 921\u001b[0m \u001b[38;5;28;01mreturn\u001b[39;00m \u001b[43malgorithms\u001b[49m\u001b[38;5;241;43m.\u001b[39;49m\u001b[43mmap_array\u001b[49m\u001b[43m(\u001b[49m\u001b[43marr\u001b[49m\u001b[43m,\u001b[49m\u001b[43m \u001b[49m\u001b[43mmapper\u001b[49m\u001b[43m,\u001b[49m\u001b[43m \u001b[49m\u001b[43mna_action\u001b[49m\u001b[38;5;241;43m=\u001b[39;49m\u001b[43mna_action\u001b[49m\u001b[43m,\u001b[49m\u001b[43m \u001b[49m\u001b[43mconvert\u001b[49m\u001b[38;5;241;43m=\u001b[39;49m\u001b[43mconvert\u001b[49m\u001b[43m)\u001b[49m\n",
      "File \u001b[0;32m/Library/Frameworks/Python.framework/Versions/3.13/lib/python3.13/site-packages/pandas/core/algorithms.py:1743\u001b[0m, in \u001b[0;36mmap_array\u001b[0;34m(arr, mapper, na_action, convert)\u001b[0m\n\u001b[1;32m   1741\u001b[0m values \u001b[38;5;241m=\u001b[39m arr\u001b[38;5;241m.\u001b[39mastype(\u001b[38;5;28mobject\u001b[39m, copy\u001b[38;5;241m=\u001b[39m\u001b[38;5;28;01mFalse\u001b[39;00m)\n\u001b[1;32m   1742\u001b[0m \u001b[38;5;28;01mif\u001b[39;00m na_action \u001b[38;5;129;01mis\u001b[39;00m \u001b[38;5;28;01mNone\u001b[39;00m:\n\u001b[0;32m-> 1743\u001b[0m     \u001b[38;5;28;01mreturn\u001b[39;00m \u001b[43mlib\u001b[49m\u001b[38;5;241;43m.\u001b[39;49m\u001b[43mmap_infer\u001b[49m\u001b[43m(\u001b[49m\u001b[43mvalues\u001b[49m\u001b[43m,\u001b[49m\u001b[43m \u001b[49m\u001b[43mmapper\u001b[49m\u001b[43m,\u001b[49m\u001b[43m \u001b[49m\u001b[43mconvert\u001b[49m\u001b[38;5;241;43m=\u001b[39;49m\u001b[43mconvert\u001b[49m\u001b[43m)\u001b[49m\n\u001b[1;32m   1744\u001b[0m \u001b[38;5;28;01melse\u001b[39;00m:\n\u001b[1;32m   1745\u001b[0m     \u001b[38;5;28;01mreturn\u001b[39;00m lib\u001b[38;5;241m.\u001b[39mmap_infer_mask(\n\u001b[1;32m   1746\u001b[0m         values, mapper, mask\u001b[38;5;241m=\u001b[39misna(values)\u001b[38;5;241m.\u001b[39mview(np\u001b[38;5;241m.\u001b[39muint8), convert\u001b[38;5;241m=\u001b[39mconvert\n\u001b[1;32m   1747\u001b[0m     )\n",
      "File \u001b[0;32mlib.pyx:2972\u001b[0m, in \u001b[0;36mpandas._libs.lib.map_infer\u001b[0;34m()\u001b[0m\n",
      "Cell \u001b[0;32mIn[40], line 5\u001b[0m, in \u001b[0;36m<lambda>\u001b[0;34m(x)\u001b[0m\n\u001b[1;32m      1\u001b[0m \u001b[38;5;66;03m# Luodaan dataframeen uusi sarake, jossa kommentti\u001b[39;00m\n\u001b[1;32m      3\u001b[0m translator \u001b[38;5;241m=\u001b[39m GoogleTranslator(source\u001b[38;5;241m=\u001b[39m\u001b[38;5;124m'\u001b[39m\u001b[38;5;124mfi\u001b[39m\u001b[38;5;124m'\u001b[39m, target\u001b[38;5;241m=\u001b[39m\u001b[38;5;124m'\u001b[39m\u001b[38;5;124men\u001b[39m\u001b[38;5;124m'\u001b[39m)\n\u001b[0;32m----> 5\u001b[0m df_under_5000_chars[\u001b[38;5;124m\"\u001b[39m\u001b[38;5;124mcomment_en\u001b[39m\u001b[38;5;124m\"\u001b[39m] \u001b[38;5;241m=\u001b[39m df_under_5000_chars[\u001b[38;5;124m\"\u001b[39m\u001b[38;5;124mcomment\u001b[39m\u001b[38;5;124m\"\u001b[39m]\u001b[38;5;241m.\u001b[39mapply(\u001b[38;5;28;01mlambda\u001b[39;00m x: \u001b[43mtranslator\u001b[49m\u001b[38;5;241;43m.\u001b[39;49m\u001b[43mtranslate\u001b[49m\u001b[43m(\u001b[49m\u001b[43mx\u001b[49m\u001b[43m)\u001b[49m)\n",
      "File \u001b[0;32m/Library/Frameworks/Python.framework/Versions/3.13/lib/python3.13/site-packages/deep_translator/google.py:84\u001b[0m, in \u001b[0;36mGoogleTranslator.translate\u001b[0;34m(self, text, **kwargs)\u001b[0m\n\u001b[1;32m     82\u001b[0m     element \u001b[38;5;241m=\u001b[39m soup\u001b[38;5;241m.\u001b[39mfind(\u001b[38;5;28mself\u001b[39m\u001b[38;5;241m.\u001b[39m_element_tag, \u001b[38;5;28mself\u001b[39m\u001b[38;5;241m.\u001b[39m_alt_element_query)\n\u001b[1;32m     83\u001b[0m     \u001b[38;5;28;01mif\u001b[39;00m \u001b[38;5;129;01mnot\u001b[39;00m element:\n\u001b[0;32m---> 84\u001b[0m         \u001b[38;5;28;01mraise\u001b[39;00m TranslationNotFound(text)\n\u001b[1;32m     85\u001b[0m \u001b[38;5;28;01mif\u001b[39;00m element\u001b[38;5;241m.\u001b[39mget_text(strip\u001b[38;5;241m=\u001b[39m\u001b[38;5;28;01mTrue\u001b[39;00m) \u001b[38;5;241m==\u001b[39m text\u001b[38;5;241m.\u001b[39mstrip():\n\u001b[1;32m     86\u001b[0m     to_translate_alpha \u001b[38;5;241m=\u001b[39m \u001b[38;5;124m\"\u001b[39m\u001b[38;5;124m\"\u001b[39m\u001b[38;5;241m.\u001b[39mjoin(\n\u001b[1;32m     87\u001b[0m         ch \u001b[38;5;28;01mfor\u001b[39;00m ch \u001b[38;5;129;01min\u001b[39;00m text\u001b[38;5;241m.\u001b[39mstrip() \u001b[38;5;28;01mif\u001b[39;00m ch\u001b[38;5;241m.\u001b[39misalnum()\n\u001b[1;32m     88\u001b[0m     )\n",
      "\u001b[0;31mTranslationNotFound\u001b[0m: Ahonen myi kyllä nyt syyskuun aikana 20 000kpl lappuja, alkuvuonna vielä meni jotain 1500 lisää. Eli lähemmäs miljoonalla hän on myynyt kyllä tänä vuonna, joka on jo aika iso potti.Ahosella taitaa olla takana jo parinkymmenen vuoden työhistoria Harviasta. Hän ei taida olla mikään sijoittaja luonteeltaan, joten nämä myynit liittyy todennäköisesti vain tarpeeseen rahastaa. --> No translation was found using the current translator. Try another translator?"
     ]
    }
   ],
   "source": [
    "# Luodaan dataframeen uusi sarake, jossa kommentti\n",
    "\n",
    "translator = GoogleTranslator(source='fi', target='en')\n",
    "\n",
    "df_under_5000_chars[\"comment_en\"] = df_under_5000_chars[\"comment\"].apply(lambda x: translator.translate(x))"
   ]
  },
  {
   "cell_type": "code",
   "execution_count": 38,
   "metadata": {},
   "outputs": [
    {
     "data": {
      "text/plain": [
       "27"
      ]
     },
     "execution_count": 38,
     "metadata": {},
     "output_type": "execute_result"
    }
   ],
   "source": [
    "len(df[df[\"comment\"].str.len() >= 5000])"
   ]
  },
  {
   "cell_type": "code",
   "execution_count": 41,
   "metadata": {},
   "outputs": [
    {
     "data": {
      "text/html": [
       "<div>\n",
       "<style scoped>\n",
       "    .dataframe tbody tr th:only-of-type {\n",
       "        vertical-align: middle;\n",
       "    }\n",
       "\n",
       "    .dataframe tbody tr th {\n",
       "        vertical-align: top;\n",
       "    }\n",
       "\n",
       "    .dataframe thead th {\n",
       "        text-align: right;\n",
       "    }\n",
       "</style>\n",
       "<table border=\"1\" class=\"dataframe\">\n",
       "  <thead>\n",
       "    <tr style=\"text-align: right;\">\n",
       "      <th></th>\n",
       "      <th>datetime</th>\n",
       "      <th>user</th>\n",
       "      <th>comment</th>\n",
       "    </tr>\n",
       "  </thead>\n",
       "  <tbody>\n",
       "    <tr>\n",
       "      <th>0</th>\n",
       "      <td>2018-09-20T12:19:18Z</td>\n",
       "      <td>Verneri_Pulkkinen</td>\n",
       "      <td>Harvian toimari oli tänäänROASTissaja huomasin...</td>\n",
       "    </tr>\n",
       "    <tr>\n",
       "      <th>1</th>\n",
       "      <td>2018-09-20T12:43:56Z</td>\n",
       "      <td>timontti</td>\n",
       "      <td>Harkinnassa, roast herätti mielenkiinnon ja la...</td>\n",
       "    </tr>\n",
       "    <tr>\n",
       "      <th>2</th>\n",
       "      <td>2018-09-20T16:03:04Z</td>\n",
       "      <td>Markus14</td>\n",
       "      <td>Karsastan tuota liikearvopommia, mikä yhtiöllä...</td>\n",
       "    </tr>\n",
       "    <tr>\n",
       "      <th>3</th>\n",
       "      <td>2018-09-20T21:17:41Z</td>\n",
       "      <td>Kalle_P</td>\n",
       "      <td>Hyvä Roasti tänään, vaikka olikin aika kevyt e...</td>\n",
       "    </tr>\n",
       "    <tr>\n",
       "      <th>4</th>\n",
       "      <td>2018-09-21T05:25:08Z</td>\n",
       "      <td>Mikael_Rautanen</td>\n",
       "      <td>Vaikuttaa kyllä kaikin puolin laadukkaalta ja ...</td>\n",
       "    </tr>\n",
       "    <tr>\n",
       "      <th>...</th>\n",
       "      <td>...</td>\n",
       "      <td>...</td>\n",
       "      <td>...</td>\n",
       "    </tr>\n",
       "    <tr>\n",
       "      <th>7054</th>\n",
       "      <td>2025-02-24T16:19:50Z</td>\n",
       "      <td>kimsku</td>\n",
       "      <td>Kiva kun pidetään ketjua aktiivisena, mutta re...</td>\n",
       "    </tr>\n",
       "    <tr>\n",
       "      <th>7055</th>\n",
       "      <td>2025-02-24T16:44:17Z</td>\n",
       "      <td>Real</td>\n",
       "      <td>onhan siinä HS:n kuvassa kiviä keskellä,HS-jut...</td>\n",
       "    </tr>\n",
       "    <tr>\n",
       "      <th>7056</th>\n",
       "      <td>2025-02-26T17:44:22Z</td>\n",
       "      <td>Saapasjalkakissa</td>\n",
       "      <td>Mielenkiintoista tietoa pienen kannustimen vai...</td>\n",
       "    </tr>\n",
       "    <tr>\n",
       "      <th>7057</th>\n",
       "      <td>2025-02-27T05:14:06Z</td>\n",
       "      <td>eesau</td>\n",
       "      <td>Tässä vielä linkki lähteenä olevaan Ympäristöm...</td>\n",
       "    </tr>\n",
       "    <tr>\n",
       "      <th>7058</th>\n",
       "      <td>2025-02-28T07:08:52Z</td>\n",
       "      <td>Dissidentti</td>\n",
       "      <td>Nyt on valjastettu jo musiikkikin saunomisen k...</td>\n",
       "    </tr>\n",
       "  </tbody>\n",
       "</table>\n",
       "<p>7059 rows × 3 columns</p>\n",
       "</div>"
      ],
      "text/plain": [
       "                  datetime               user  \\\n",
       "0     2018-09-20T12:19:18Z  Verneri_Pulkkinen   \n",
       "1     2018-09-20T12:43:56Z           timontti   \n",
       "2     2018-09-20T16:03:04Z           Markus14   \n",
       "3     2018-09-20T21:17:41Z            Kalle_P   \n",
       "4     2018-09-21T05:25:08Z    Mikael_Rautanen   \n",
       "...                    ...                ...   \n",
       "7054  2025-02-24T16:19:50Z             kimsku   \n",
       "7055  2025-02-24T16:44:17Z               Real   \n",
       "7056  2025-02-26T17:44:22Z   Saapasjalkakissa   \n",
       "7057  2025-02-27T05:14:06Z              eesau   \n",
       "7058  2025-02-28T07:08:52Z        Dissidentti   \n",
       "\n",
       "                                                comment  \n",
       "0     Harvian toimari oli tänäänROASTissaja huomasin...  \n",
       "1     Harkinnassa, roast herätti mielenkiinnon ja la...  \n",
       "2     Karsastan tuota liikearvopommia, mikä yhtiöllä...  \n",
       "3     Hyvä Roasti tänään, vaikka olikin aika kevyt e...  \n",
       "4     Vaikuttaa kyllä kaikin puolin laadukkaalta ja ...  \n",
       "...                                                 ...  \n",
       "7054  Kiva kun pidetään ketjua aktiivisena, mutta re...  \n",
       "7055  onhan siinä HS:n kuvassa kiviä keskellä,HS-jut...  \n",
       "7056  Mielenkiintoista tietoa pienen kannustimen vai...  \n",
       "7057  Tässä vielä linkki lähteenä olevaan Ympäristöm...  \n",
       "7058  Nyt on valjastettu jo musiikkikin saunomisen k...  \n",
       "\n",
       "[7059 rows x 3 columns]"
      ]
     },
     "execution_count": 41,
     "metadata": {},
     "output_type": "execute_result"
    }
   ],
   "source": [
    "df_under_5000_chars"
   ]
  },
  {
   "cell_type": "code",
   "execution_count": 28,
   "metadata": {},
   "outputs": [
    {
     "data": {
      "text/plain": [
       "7097"
      ]
     },
     "execution_count": 28,
     "metadata": {},
     "output_type": "execute_result"
    }
   ],
   "source": [
    "len(df)"
   ]
  },
  {
   "cell_type": "code",
   "execution_count": null,
   "metadata": {},
   "outputs": [
    {
     "data": {
      "text/plain": [
       "11"
      ]
     },
     "execution_count": 31,
     "metadata": {},
     "output_type": "execute_result"
    }
   ],
   "source": [
    "# Rivit, joilla \"comment\" on NaN\n",
    "\n",
    "len(df[df[\"comment\"].isnull()==True])"
   ]
  }
 ],
 "metadata": {
  "kernelspec": {
   "display_name": "Python 3",
   "language": "python",
   "name": "python3"
  },
  "language_info": {
   "codemirror_mode": {
    "name": "ipython",
    "version": 3
   },
   "file_extension": ".py",
   "mimetype": "text/x-python",
   "name": "python",
   "nbconvert_exporter": "python",
   "pygments_lexer": "ipython3",
   "version": "3.13.2"
  }
 },
 "nbformat": 4,
 "nbformat_minor": 2
}
