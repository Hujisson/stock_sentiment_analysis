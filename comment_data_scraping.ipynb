{
 "cells": [
  {
   "cell_type": "code",
   "execution_count": 57,
   "metadata": {},
   "outputs": [],
   "source": [
    "import requests\n",
    "from bs4 import BeautifulSoup\n",
    "import pandas as pd"
   ]
  },
  {
   "cell_type": "markdown",
   "metadata": {},
   "source": [
    "## Miten kommentti koostuu foorumilla?"
   ]
  },
  {
   "cell_type": "code",
   "execution_count": null,
   "metadata": {},
   "outputs": [
    {
     "name": "stdout",
     "output_type": "stream",
     "text": [
      "<Response [200]>\n",
      "Hyvä Roasti tänään, vaikka olikin aika kevyt eikä hikeä tullu toimarilta. Harvialla todella puhtaat paperit ja tylsyys on hyvä sijoittamisessa, kuten Sammon kohdalla… Jatkoon… aloitan ostoprojektin huomenna.\n",
      "2018-09-20T21:17:41Z\n",
      "Kalle_P\n"
     ]
    }
   ],
   "source": [
    "# Nesteen keskustelun linkki\n",
    "r = requests.get(\"https://keskustelut.inderes.fi/t/harvia-foorumi-eli-haarumi-kansainvalista-kasvua-ja-hyvinvoinnin-megatrendeja/471/4\")\n",
    "\n",
    "# Jos status code = 200, vastaus saatiin\n",
    "print(r)\n",
    "\n",
    "# HTML:n jäsentäminen\n",
    "soup = BeautifulSoup(r.content, 'html.parser')\n",
    "\n",
    "# Haetaan tarvittavat elementit eli kommentit, aikaleima ja käyttäjä\n",
    "comment = soup.find(\"div\", {\"class\": \"post\"}).get_text(strip=True)\n",
    "time = soup.find(\"time\", {\"class\":\"post-time\"})\n",
    "datetime = time['datetime']\n",
    "creator = soup.find(\"span\", {\"class\":\"creator\"})\n",
    "name = creator.find(\"span\", {\"itemprop\":\"name\"}).get_text(strip=True)\n",
    "\n",
    "print(comment)\n",
    "print(datetime)\n",
    "print(name)"
   ]
  },
  {
   "cell_type": "markdown",
   "metadata": {},
   "source": [
    "## Kaikkien ketjun kommenttien hakeminen"
   ]
  },
  {
   "cell_type": "code",
   "execution_count": 72,
   "metadata": {},
   "outputs": [],
   "source": [
    "# Listat kommenteille ja aikaleimoille\n",
    "\n",
    "comments = []\n",
    "dates = []\n",
    "users = []\n",
    "\n",
    "# Haetaan kaikki kommentit, joita on x kappaletta\n",
    "\n",
    "for i in range(1,101):\n",
    "    r = requests.get(f\"https://keskustelut.inderes.fi/t/harvia-foorumi-eli-haarumi-kansainvalista-kasvua-ja-hyvinvoinnin-megatrendeja/471/{i}\")\n",
    "    soup = BeautifulSoup(r.content, 'html.parser')\n",
    "\n",
    "    # Kommentit\n",
    "    comment = soup.find(\"div\", {\"class\": \"post\"}).get_text(strip=True)\n",
    "    comments.append(comment)\n",
    "\n",
    "    # Aikaleimat\n",
    "    time = soup.find(\"time\", {\"class\":\"post-time\"})\n",
    "    datetime = time['datetime']\n",
    "    dates.append(datetime)\n",
    "    \n",
    "    # Käyttäjät\n",
    "    creator = soup.find(\"span\", {\"class\":\"creator\"})\n",
    "    name = creator.find(\"span\", {\"itemprop\":\"name\"}).get_text(strip=True)\n",
    "    users.append(name)"
   ]
  },
  {
   "cell_type": "code",
   "execution_count": 73,
   "metadata": {},
   "outputs": [],
   "source": [
    "# Siirretään kommentit dataframeihin\n",
    "\n",
    "df_comments = pd.DataFrame({\n",
    "    \"datetime\":dates,\n",
    "    \"user\":users,\n",
    "    \"comment\":comments\n",
    "})"
   ]
  },
  {
   "cell_type": "code",
   "execution_count": 74,
   "metadata": {},
   "outputs": [
    {
     "data": {
      "text/html": [
       "<div>\n",
       "<style scoped>\n",
       "    .dataframe tbody tr th:only-of-type {\n",
       "        vertical-align: middle;\n",
       "    }\n",
       "\n",
       "    .dataframe tbody tr th {\n",
       "        vertical-align: top;\n",
       "    }\n",
       "\n",
       "    .dataframe thead th {\n",
       "        text-align: right;\n",
       "    }\n",
       "</style>\n",
       "<table border=\"1\" class=\"dataframe\">\n",
       "  <thead>\n",
       "    <tr style=\"text-align: right;\">\n",
       "      <th></th>\n",
       "      <th>datetime</th>\n",
       "      <th>user</th>\n",
       "      <th>comment</th>\n",
       "    </tr>\n",
       "  </thead>\n",
       "  <tbody>\n",
       "    <tr>\n",
       "      <th>0</th>\n",
       "      <td>2018-09-20T12:19:18Z</td>\n",
       "      <td>Verneri_Pulkkinen</td>\n",
       "      <td>Harvian toimari oli tänäänROASTissaja huomasin...</td>\n",
       "    </tr>\n",
       "    <tr>\n",
       "      <th>1</th>\n",
       "      <td>2018-09-20T12:43:56Z</td>\n",
       "      <td>timontti</td>\n",
       "      <td>Harkinnassa, roast herätti mielenkiinnon ja la...</td>\n",
       "    </tr>\n",
       "    <tr>\n",
       "      <th>2</th>\n",
       "      <td>2018-09-20T16:03:04Z</td>\n",
       "      <td>Markus14</td>\n",
       "      <td>Karsastan tuota liikearvopommia, mikä yhtiöllä...</td>\n",
       "    </tr>\n",
       "    <tr>\n",
       "      <th>3</th>\n",
       "      <td>2018-09-20T21:17:41Z</td>\n",
       "      <td>Kalle_P</td>\n",
       "      <td>Hyvä Roasti tänään, vaikka olikin aika kevyt e...</td>\n",
       "    </tr>\n",
       "    <tr>\n",
       "      <th>4</th>\n",
       "      <td>2018-09-21T05:25:08Z</td>\n",
       "      <td>Mikael_Rautanen</td>\n",
       "      <td>Vaikuttaa kyllä kaikin puolin laadukkaalta ja ...</td>\n",
       "    </tr>\n",
       "    <tr>\n",
       "      <th>...</th>\n",
       "      <td>...</td>\n",
       "      <td>...</td>\n",
       "      <td>...</td>\n",
       "    </tr>\n",
       "    <tr>\n",
       "      <th>95</th>\n",
       "      <td>2019-03-06T07:42:10Z</td>\n",
       "      <td>timontti</td>\n",
       "      <td>twitter.comTomi Lahti@zijoittaja#Harviaon kyll...</td>\n",
       "    </tr>\n",
       "    <tr>\n",
       "      <th>96</th>\n",
       "      <td>2019-03-06T07:59:54Z</td>\n",
       "      <td>HerrDax</td>\n",
       "      <td>Vaihdotkin olleet viime viikkoina suuria.Eikai...</td>\n",
       "    </tr>\n",
       "    <tr>\n",
       "      <th>97</th>\n",
       "      <td>2019-03-06T08:08:32Z</td>\n",
       "      <td>Saapasjalkakissa</td>\n",
       "      <td>Suurempi osa omistajista on tällä hetkellä ulk...</td>\n",
       "    </tr>\n",
       "    <tr>\n",
       "      <th>98</th>\n",
       "      <td>2019-03-06T08:22:08Z</td>\n",
       "      <td>Masse</td>\n",
       "      <td>Aston_Livingstone:Kuukauden osake on Harvia – ...</td>\n",
       "    </tr>\n",
       "    <tr>\n",
       "      <th>99</th>\n",
       "      <td>2019-03-06T08:29:22Z</td>\n",
       "      <td>Saapasjalkakissa</td>\n",
       "      <td>Vuosikertomuksesta selviää, että Lannebo Fonde...</td>\n",
       "    </tr>\n",
       "  </tbody>\n",
       "</table>\n",
       "<p>100 rows × 3 columns</p>\n",
       "</div>"
      ],
      "text/plain": [
       "                datetime               user  \\\n",
       "0   2018-09-20T12:19:18Z  Verneri_Pulkkinen   \n",
       "1   2018-09-20T12:43:56Z           timontti   \n",
       "2   2018-09-20T16:03:04Z           Markus14   \n",
       "3   2018-09-20T21:17:41Z            Kalle_P   \n",
       "4   2018-09-21T05:25:08Z    Mikael_Rautanen   \n",
       "..                   ...                ...   \n",
       "95  2019-03-06T07:42:10Z           timontti   \n",
       "96  2019-03-06T07:59:54Z            HerrDax   \n",
       "97  2019-03-06T08:08:32Z   Saapasjalkakissa   \n",
       "98  2019-03-06T08:22:08Z              Masse   \n",
       "99  2019-03-06T08:29:22Z   Saapasjalkakissa   \n",
       "\n",
       "                                              comment  \n",
       "0   Harvian toimari oli tänäänROASTissaja huomasin...  \n",
       "1   Harkinnassa, roast herätti mielenkiinnon ja la...  \n",
       "2   Karsastan tuota liikearvopommia, mikä yhtiöllä...  \n",
       "3   Hyvä Roasti tänään, vaikka olikin aika kevyt e...  \n",
       "4   Vaikuttaa kyllä kaikin puolin laadukkaalta ja ...  \n",
       "..                                                ...  \n",
       "95  twitter.comTomi Lahti@zijoittaja#Harviaon kyll...  \n",
       "96  Vaihdotkin olleet viime viikkoina suuria.Eikai...  \n",
       "97  Suurempi osa omistajista on tällä hetkellä ulk...  \n",
       "98  Aston_Livingstone:Kuukauden osake on Harvia – ...  \n",
       "99  Vuosikertomuksesta selviää, että Lannebo Fonde...  \n",
       "\n",
       "[100 rows x 3 columns]"
      ]
     },
     "execution_count": 74,
     "metadata": {},
     "output_type": "execute_result"
    }
   ],
   "source": [
    "df_comments"
   ]
  }
 ],
 "metadata": {
  "kernelspec": {
   "display_name": "Python 3",
   "language": "python",
   "name": "python3"
  },
  "language_info": {
   "codemirror_mode": {
    "name": "ipython",
    "version": 3
   },
   "file_extension": ".py",
   "mimetype": "text/x-python",
   "name": "python",
   "nbconvert_exporter": "python",
   "pygments_lexer": "ipython3",
   "version": "3.13.2"
  }
 },
 "nbformat": 4,
 "nbformat_minor": 2
}
