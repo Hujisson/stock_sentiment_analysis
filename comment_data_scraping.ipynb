{
 "cells": [
  {
   "cell_type": "code",
   "execution_count": 75,
   "metadata": {},
   "outputs": [],
   "source": [
    "import requests\n",
    "from bs4 import BeautifulSoup\n",
    "import pandas as pd"
   ]
  },
  {
   "cell_type": "markdown",
   "metadata": {},
   "source": [
    "## Miten kommentti koostuu foorumilla?"
   ]
  },
  {
   "cell_type": "code",
   "execution_count": null,
   "metadata": {},
   "outputs": [
    {
     "name": "stdout",
     "output_type": "stream",
     "text": [
      "<Response [200]>\n",
      "Hyvä Roasti tänään, vaikka olikin aika kevyt eikä hikeä tullu toimarilta. Harvialla todella puhtaat paperit ja tylsyys on hyvä sijoittamisessa, kuten Sammon kohdalla… Jatkoon… aloitan ostoprojektin huomenna.\n",
      "2018-09-20T21:17:41Z\n",
      "Kalle_P\n"
     ]
    }
   ],
   "source": [
    "# Nesteen keskustelun linkki\n",
    "r = requests.get(\"https://keskustelut.inderes.fi/t/harvia-foorumi-eli-haarumi-kansainvalista-kasvua-ja-hyvinvoinnin-megatrendeja/471/4\")\n",
    "\n",
    "# Jos status code = 200, vastaus saatiin\n",
    "print(r)\n",
    "\n",
    "# HTML:n jäsentäminen\n",
    "soup = BeautifulSoup(r.content, 'html.parser')\n",
    "\n",
    "# Haetaan tarvittavat elementit eli kommentit, aikaleima ja käyttäjä\n",
    "comment = soup.find(\"div\", {\"class\": \"post\"}).get_text(strip=True)\n",
    "time = soup.find(\"time\", {\"class\":\"post-time\"})\n",
    "datetime = time['datetime']\n",
    "creator = soup.find(\"span\", {\"class\":\"creator\"})\n",
    "name = creator.find(\"span\", {\"itemprop\":\"name\"}).get_text(strip=True)\n",
    "\n",
    "print(comment)\n",
    "print(datetime)\n",
    "print(name)"
   ]
  },
  {
   "cell_type": "markdown",
   "metadata": {},
   "source": [
    "## Kaikkien ketjun kommenttien hakeminen"
   ]
  },
  {
   "cell_type": "code",
   "execution_count": 76,
   "metadata": {},
   "outputs": [],
   "source": [
    "# Listat kommenteille ja aikaleimoille\n",
    "\n",
    "comments = []\n",
    "dates = []\n",
    "users = []\n",
    "\n",
    "# Haetaan kaikki kommentit, joita on x kappaletta\n",
    "\n",
    "for i in range(1,7997):\n",
    "    r = requests.get(f\"https://keskustelut.inderes.fi/t/harvia-foorumi-eli-haarumi-kansainvalista-kasvua-ja-hyvinvoinnin-megatrendeja/471/{i}\")\n",
    "    soup = BeautifulSoup(r.content, 'html.parser')\n",
    "\n",
    "    # Kommentit\n",
    "    comment = soup.find(\"div\", {\"class\": \"post\"}).get_text(strip=True)\n",
    "    comments.append(comment)\n",
    "\n",
    "    # Aikaleimat\n",
    "    time = soup.find(\"time\", {\"class\":\"post-time\"})\n",
    "    datetime = time['datetime']\n",
    "    dates.append(datetime)\n",
    "    \n",
    "    # Käyttäjät\n",
    "    creator = soup.find(\"span\", {\"class\":\"creator\"})\n",
    "    name = creator.find(\"span\", {\"itemprop\":\"name\"}).get_text(strip=True)\n",
    "    users.append(name)"
   ]
  },
  {
   "cell_type": "code",
   "execution_count": 101,
   "metadata": {},
   "outputs": [],
   "source": [
    "# Siirretään kommentit dataframeihin\n",
    "\n",
    "df_comments = pd.DataFrame({\n",
    "    \"datetime\":dates,\n",
    "    \"user\":users,\n",
    "    \"comment\":comments\n",
    "})"
   ]
  },
  {
   "cell_type": "code",
   "execution_count": 102,
   "metadata": {},
   "outputs": [
    {
     "data": {
      "text/html": [
       "<div>\n",
       "<style scoped>\n",
       "    .dataframe tbody tr th:only-of-type {\n",
       "        vertical-align: middle;\n",
       "    }\n",
       "\n",
       "    .dataframe tbody tr th {\n",
       "        vertical-align: top;\n",
       "    }\n",
       "\n",
       "    .dataframe thead th {\n",
       "        text-align: right;\n",
       "    }\n",
       "</style>\n",
       "<table border=\"1\" class=\"dataframe\">\n",
       "  <thead>\n",
       "    <tr style=\"text-align: right;\">\n",
       "      <th></th>\n",
       "      <th>datetime</th>\n",
       "      <th>user</th>\n",
       "      <th>comment</th>\n",
       "    </tr>\n",
       "  </thead>\n",
       "  <tbody>\n",
       "    <tr>\n",
       "      <th>0</th>\n",
       "      <td>2018-09-20T12:19:18Z</td>\n",
       "      <td>Verneri_Pulkkinen</td>\n",
       "      <td>Harvian toimari oli tänäänROASTissaja huomasin...</td>\n",
       "    </tr>\n",
       "    <tr>\n",
       "      <th>1</th>\n",
       "      <td>2018-09-20T12:43:56Z</td>\n",
       "      <td>timontti</td>\n",
       "      <td>Harkinnassa, roast herätti mielenkiinnon ja la...</td>\n",
       "    </tr>\n",
       "    <tr>\n",
       "      <th>2</th>\n",
       "      <td>2018-09-20T16:03:04Z</td>\n",
       "      <td>Markus14</td>\n",
       "      <td>Karsastan tuota liikearvopommia, mikä yhtiöllä...</td>\n",
       "    </tr>\n",
       "    <tr>\n",
       "      <th>3</th>\n",
       "      <td>2018-09-20T21:17:41Z</td>\n",
       "      <td>Kalle_P</td>\n",
       "      <td>Hyvä Roasti tänään, vaikka olikin aika kevyt e...</td>\n",
       "    </tr>\n",
       "    <tr>\n",
       "      <th>4</th>\n",
       "      <td>2018-09-21T05:25:08Z</td>\n",
       "      <td>Mikael_Rautanen</td>\n",
       "      <td>Vaikuttaa kyllä kaikin puolin laadukkaalta ja ...</td>\n",
       "    </tr>\n",
       "    <tr>\n",
       "      <th>...</th>\n",
       "      <td>...</td>\n",
       "      <td>...</td>\n",
       "      <td>...</td>\n",
       "    </tr>\n",
       "    <tr>\n",
       "      <th>7991</th>\n",
       "      <td>2025-02-24T16:19:50Z</td>\n",
       "      <td>kimsku</td>\n",
       "      <td>Kiva kun pidetään ketjua aktiivisena, mutta re...</td>\n",
       "    </tr>\n",
       "    <tr>\n",
       "      <th>7992</th>\n",
       "      <td>2025-02-24T16:44:17Z</td>\n",
       "      <td>Real</td>\n",
       "      <td>onhan siinä HS:n kuvassa kiviä keskellä,HS-jut...</td>\n",
       "    </tr>\n",
       "    <tr>\n",
       "      <th>7993</th>\n",
       "      <td>2025-02-26T17:44:22Z</td>\n",
       "      <td>Saapasjalkakissa</td>\n",
       "      <td>Mielenkiintoista tietoa pienen kannustimen vai...</td>\n",
       "    </tr>\n",
       "    <tr>\n",
       "      <th>7994</th>\n",
       "      <td>2025-02-27T05:14:06Z</td>\n",
       "      <td>eesau</td>\n",
       "      <td>Tässä vielä linkki lähteenä olevaan Ympäristöm...</td>\n",
       "    </tr>\n",
       "    <tr>\n",
       "      <th>7995</th>\n",
       "      <td>2025-02-28T07:08:52Z</td>\n",
       "      <td>Dissidentti</td>\n",
       "      <td>Nyt on valjastettu jo musiikkikin saunomisen k...</td>\n",
       "    </tr>\n",
       "  </tbody>\n",
       "</table>\n",
       "<p>7996 rows × 3 columns</p>\n",
       "</div>"
      ],
      "text/plain": [
       "                  datetime               user  \\\n",
       "0     2018-09-20T12:19:18Z  Verneri_Pulkkinen   \n",
       "1     2018-09-20T12:43:56Z           timontti   \n",
       "2     2018-09-20T16:03:04Z           Markus14   \n",
       "3     2018-09-20T21:17:41Z            Kalle_P   \n",
       "4     2018-09-21T05:25:08Z    Mikael_Rautanen   \n",
       "...                    ...                ...   \n",
       "7991  2025-02-24T16:19:50Z             kimsku   \n",
       "7992  2025-02-24T16:44:17Z               Real   \n",
       "7993  2025-02-26T17:44:22Z   Saapasjalkakissa   \n",
       "7994  2025-02-27T05:14:06Z              eesau   \n",
       "7995  2025-02-28T07:08:52Z        Dissidentti   \n",
       "\n",
       "                                                comment  \n",
       "0     Harvian toimari oli tänäänROASTissaja huomasin...  \n",
       "1     Harkinnassa, roast herätti mielenkiinnon ja la...  \n",
       "2     Karsastan tuota liikearvopommia, mikä yhtiöllä...  \n",
       "3     Hyvä Roasti tänään, vaikka olikin aika kevyt e...  \n",
       "4     Vaikuttaa kyllä kaikin puolin laadukkaalta ja ...  \n",
       "...                                                 ...  \n",
       "7991  Kiva kun pidetään ketjua aktiivisena, mutta re...  \n",
       "7992  onhan siinä HS:n kuvassa kiviä keskellä,HS-jut...  \n",
       "7993  Mielenkiintoista tietoa pienen kannustimen vai...  \n",
       "7994  Tässä vielä linkki lähteenä olevaan Ympäristöm...  \n",
       "7995  Nyt on valjastettu jo musiikkikin saunomisen k...  \n",
       "\n",
       "[7996 rows x 3 columns]"
      ]
     },
     "execution_count": 102,
     "metadata": {},
     "output_type": "execute_result"
    }
   ],
   "source": [
    "df_comments"
   ]
  },
  {
   "cell_type": "code",
   "execution_count": null,
   "metadata": {},
   "outputs": [
    {
     "data": {
      "text/plain": [
       "datetime    7095\n",
       "user         830\n",
       "comment     7084\n",
       "dtype: int64"
      ]
     },
     "execution_count": 107,
     "metadata": {},
     "output_type": "execute_result"
    }
   ],
   "source": [
    "# Onko duplikaatteja?\n",
    "\n",
    "df_comments.nunique()"
   ]
  },
  {
   "cell_type": "code",
   "execution_count": null,
   "metadata": {},
   "outputs": [],
   "source": [
    "# Datassa on duplikaatteja, jotka näyttävät johtuvan siitä, että osa kommenteista on hävinnyt välistä\n",
    "# Eli esim. kommenttia numero 10 ei ole enää\n",
    "# Tämä mahdollisesti sekoittaa koodin ja luo duplikaatteja\n",
    "# Riittävä taso minulle on vain poistaa duplikaatit\n",
    "\n",
    "df_comments_unique = df_comments.drop_duplicates()"
   ]
  },
  {
   "cell_type": "code",
   "execution_count": null,
   "metadata": {},
   "outputs": [
    {
     "data": {
      "text/plain": [
       "7097"
      ]
     },
     "execution_count": 113,
     "metadata": {},
     "output_type": "execute_result"
    }
   ],
   "source": [
    "# Nyt kommenttien määrä vastaa kommenttien määrää, joka foorumilla on datan keräys hetkellä näkyvissä\n",
    "\n",
    "len(df_comments_unique)"
   ]
  },
  {
   "cell_type": "code",
   "execution_count": 115,
   "metadata": {},
   "outputs": [],
   "source": [
    "# Viedään kommentit talteen csv-tiedostoon\n",
    "\n",
    "df_comments_unique.to_csv(\"comments.csv\", index=False)"
   ]
  }
 ],
 "metadata": {
  "kernelspec": {
   "display_name": "Python 3",
   "language": "python",
   "name": "python3"
  },
  "language_info": {
   "codemirror_mode": {
    "name": "ipython",
    "version": 3
   },
   "file_extension": ".py",
   "mimetype": "text/x-python",
   "name": "python",
   "nbconvert_exporter": "python",
   "pygments_lexer": "ipython3",
   "version": "3.13.2"
  }
 },
 "nbformat": 4,
 "nbformat_minor": 2
}
